{
 "cells": [
  {
   "cell_type": "code",
   "execution_count": 1,
   "id": "2c4207e4",
   "metadata": {},
   "outputs": [],
   "source": [
    "from time import time\n",
    "from datetime import datetime,timedelta\n",
    "import requests\n",
    "import hashlib\n",
    "import hmac\n",
    "import base64\n",
    "from urllib.parse import urlparse\n",
    "import pandas as pd #dataframes, easier to use\n",
    "\n",
    "# For SSL use on Mac\n",
    "import os\n",
    "import sys\n",
    "import certifi\n",
    "os.environ['REQUESTS_CA_BUNDLE'] = os.path.join(os.path.dirname(sys.argv[0]), certifi.where())\n"
   ]
  },
  {
   "cell_type": "markdown",
   "id": "12c9d4a5",
   "metadata": {},
   "source": [
    "## Use Coinbase API to download price data"
   ]
  },
  {
   "cell_type": "code",
   "execution_count": 2,
   "id": "ba89a471",
   "metadata": {},
   "outputs": [],
   "source": [
    "#Details\n",
    "#If either one of the start or end fields are not provided then both fields will be ignored. If a custom time range is not declared then one ending now is selected.\n",
    "#The granularity field must be one of the following values: {60, 300, 900, 3600, 21600, 86400}. Otherwise, your request will be rejected. These values correspond to \n",
    "# #timeslices representing one minute, five minutes, fifteen minutes, one hour, six hours, and one day, respectively.\n",
    "#If data points are readily available, your response may contain as many as 300 candles and some of those candles may precede your declared start value. \n",
    "# #The maximum number of data points for a single request is 300 candles. If your selection of start/end time and granularity will result in more than 300 data points,\n",
    "# your request will be rejected. If you wish to retrieve fine granularity data over a larger time range, you will need to make multiple requests with new start/end ranges.\n",
    "\n",
    "#youtube https://www.youtube.com/watch?v=lf92JHVNP0g\n",
    "\n",
    "\n",
    "#url = \"https://api.exchange.coinbase.com/products/BTC-USD/candles?granularity=60&start=1645070640&end=1645069740\"\n",
    "\n",
    "#300min, 5 hours\n",
    "def getBTCPrice(timeEnd):\n",
    "    granularity = 60 #60 seconds\n",
    "    delta = timedelta(minutes=granularity/60)\n",
    "    #max request size is 300 candles\n",
    "    timeStart = timeEnd - (300*delta)\n",
    "    timeStart = timeStart.isoformat()\n",
    "    timeEnd = timeEnd.isoformat() #must be isoformat\n",
    "\n",
    "    url=\"https://api.exchange.coinbase.com/products/{product_id}/candles\"\n",
    "    #https://api-public.sandbox.exchange.coinbase.com/products/BTC-USD/book?level=2\n",
    "    #live is api.exchange.coinbase.com/products/BTC-USD/book?level=1\n",
    "    product_id = \"BTC-USD\"\n",
    "\n",
    "    requestParam  = {\n",
    "        \"start\":timeStart,\n",
    "        \"end\":timeEnd,\n",
    "        \"granularity\":granularity\n",
    "    }\n",
    "\n",
    "    url = url.format(product_id=product_id)\n",
    "    print(\"URL: \",url)\n",
    "\n",
    "    headers={\n",
    "        \"Content-Type\":\"application/json\",\n",
    "        \"ACCEPT\":\"application/json\"\n",
    "    }\n",
    "\n",
    "    response = requests.get(url,headers=headers, params=requestParam)\n",
    "\n",
    "    responseJson = response.json()\n",
    "    df = pd.DataFrame(response.json(),columns=[\"timestamp\",\"open\",\"high\",\"low\",\"close\",\"volume\"])\n",
    "\n",
    "    #convert timestamp to a date/time\n",
    "    df[\"date\"] = pd.to_datetime(df[\"timestamp\"], unit='s')\n",
    "    df = df[[\"date\",\"open\",\"high\",\"low\",\"close\",\"volume\"]]\n",
    "    df.set_index(\"date\",inplace=True)\n",
    "    print(str(timeEnd))\n",
    "    df.to_csv(\"BC_BTC_prices.2023.03.04.1min.csv\", mode=\"a\",header=False)\n",
    "    #[timestamp, price_low, price_high, price_open, price_close, volume]"
   ]
  },
  {
   "cell_type": "code",
   "execution_count": null,
   "id": "3ea26487",
   "metadata": {},
   "outputs": [],
   "source": [
    "#request from now, then change the date earlier by 5 hours, n number of times\n",
    "\n",
    "timeEnd = datetime(2015,10,17,4,58,00)\n",
    "for i in range(0,1968):    #Use a number divisible by 24. 24 gets 5 full days, such as 1920 or 3840.\n",
    "    getBTCPrice(timeEnd)\n",
    "    timeEnd = timeEnd - timedelta(hours=5)"
   ]
  },
  {
   "cell_type": "markdown",
   "id": "2de78c66",
   "metadata": {},
   "source": [
    "## View data"
   ]
  },
  {
   "cell_type": "code",
   "execution_count": 3,
   "id": "5b385346",
   "metadata": {},
   "outputs": [],
   "source": [
    "import matplotlib.pyplot as plt\n",
    "import plotly.graph_objects as go\n",
    "import plotly.io as pio"
   ]
  },
  {
   "cell_type": "code",
   "execution_count": 4,
   "id": "caefbc33",
   "metadata": {},
   "outputs": [],
   "source": [
    "# Import data\n",
    "data = pd.read_csv(\"BC_BTC_prices.2023.03.04.1min.csv\", header=None, index_col=0)\n",
    "\n",
    "# Rename the index column to \"Date\"\n",
    "data = data.rename_axis(\"Date\")\n",
    "\n",
    "# Add headers\n",
    "data.columns = ['Open', 'High', 'Low', 'Close', 'Volume']\n",
    "\n",
    "# Reverse the order of rows in data frame, so that earlier times come first in the data.\n",
    "data = data.iloc[::-1]\n"
   ]
  },
  {
   "cell_type": "code",
   "execution_count": 5,
   "id": "6d84c994",
   "metadata": {},
   "outputs": [],
   "source": [
    "# Calculate moving averages\n",
    "data['4SMA'] = data['Close'].rolling(window=4).mean()\n",
    "data['16SMA'] = data['Close'].rolling(window=16).mean()\n",
    "data['64SMA'] = data['Close'].rolling(window=64).mean()"
   ]
  },
  {
   "cell_type": "code",
   "execution_count": 6,
   "id": "0c4422c6",
   "metadata": {},
   "outputs": [
    {
     "name": "stdout",
     "output_type": "stream",
     "text": [
      "Requirement already satisfied: kaleido in /Users/eddiechu/miniconda3/envs/bootcamp/lib/python3.8/site-packages (0.2.1)\r\n"
     ]
    }
   ],
   "source": [
    "!pip install -U kaleido"
   ]
  },
  {
   "cell_type": "code",
   "execution_count": 10,
   "id": "8994008d",
   "metadata": {
    "scrolled": true
   },
   "outputs": [
    {
     "name": "stdout",
     "output_type": "stream",
     "text": [
      "                         Open      High       Low     Close    Volume  \\\n",
      "Date                                                                    \n",
      "2023-03-04 05:00:00  22340.49  22348.21  22347.95  22340.49  1.303631   \n",
      "2023-03-04 05:01:00  22337.67  22343.80  22340.49  22342.52  2.562976   \n",
      "2023-03-04 05:02:00  22339.52  22343.18  22341.55  22342.53  3.168018   \n",
      "2023-03-04 05:03:00  22342.53  22345.50  22342.53  22345.49  1.341763   \n",
      "2023-03-04 05:04:00  22343.67  22345.41  22345.25  22345.21  1.046043   \n",
      "\n",
      "                           4SMA         16SMA         64SMA  \n",
      "Date                                                         \n",
      "2023-03-04 05:00:00  22340.7925  22336.570000  22347.025156  \n",
      "2023-03-04 05:01:00  22343.1400  22336.818125  22346.867031  \n",
      "2023-03-04 05:02:00  22343.4050  22337.220625  22346.673594  \n",
      "2023-03-04 05:03:00  22342.7575  22337.833750  22346.599219  \n",
      "2023-03-04 05:04:00  22343.9375  22338.181875  22346.631406  \n"
     ]
    }
   ],
   "source": [
    "# View data\n",
    "dataview = data.tail(300).copy()\n",
    "print(dataview.head())\n",
    "\n",
    "# Chart price data (last 300 prices)\n",
    "fig = go.Figure(data=[go.Candlestick(x=dataview.index, open=dataview['Open'], high=dataview['High'], low=dataview['Low'], close=dataview['Close'], name='Price')])\n",
    "\n",
    "# Add moving average lines\n",
    "fig.add_trace(go.Scatter(x=dataview.index, y=dataview['4SMA'], name='4SMA'))\n",
    "fig.add_trace(go.Scatter(x=dataview.index, y=dataview['16SMA'], name='16SMA'))\n",
    "fig.add_trace(go.Scatter(x=dataview.index, y=dataview['64SMA'], name='64SMA'))\n",
    "\n",
    "fig.update_layout(title='Price and Moving Averages', title_x=0.5)\n",
    "\n",
    "# Save the chart as an image file\n",
    "pio.write_image(fig, 'pricechart.png')"
   ]
  },
  {
   "cell_type": "markdown",
   "id": "89e173ce",
   "metadata": {},
   "source": [
    "![My Plot](pricechart.png)"
   ]
  }
 ],
 "metadata": {
  "kernelspec": {
   "display_name": "Python 3 (ipykernel)",
   "language": "python",
   "name": "python3"
  },
  "language_info": {
   "codemirror_mode": {
    "name": "ipython",
    "version": 3
   },
   "file_extension": ".py",
   "mimetype": "text/x-python",
   "name": "python",
   "nbconvert_exporter": "python",
   "pygments_lexer": "ipython3",
   "version": "3.8.15"
  }
 },
 "nbformat": 4,
 "nbformat_minor": 5
}
